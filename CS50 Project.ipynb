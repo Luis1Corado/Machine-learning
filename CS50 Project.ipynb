{
 "cells": [
  {
   "cell_type": "markdown",
   "id": "104cb11d-b81b-4e77-87d8-011dedd451c0",
   "metadata": {},
   "source": [
    "# Welcome to digit recognition \n",
    "\n",
    "In this project, I'm gonna analyze a dataset of number recognition, in order to build a model capable of identifying a number with an image as an output. <br>\n",
    "The first thing we are going to do is import all the necessary things for this project including the dataset and all the Python libraries to use."
   ]
  },
  {
   "cell_type": "code",
   "execution_count": 3,
   "id": "375e7371-e2e7-49b4-a4a6-6d2144762ca2",
   "metadata": {},
   "outputs": [],
   "source": [
    "import numpy as np\n",
    "import pandas as pd\n",
    "import matplotlib.pyplot as plt"
   ]
  },
  {
   "cell_type": "markdown",
   "id": "14d40bc4-e440-42ec-b3e5-6cc5fee4135b",
   "metadata": {},
   "source": [
    "The dataset is provided by a library in python called **sckit learn**, which is a Python library dedicated to machine learning. We are gonna use the digits dataset. "
   ]
  },
  {
   "cell_type": "code",
   "execution_count": 20,
   "id": "6a39125b-f546-495d-889b-ab9686ff2c0f",
   "metadata": {},
   "outputs": [],
   "source": [
    "import sklearn\n",
    "from sklearn.preprocessing import scale\n",
    "from sklearn.datasets import load_digits\n",
    "from sklearn.cluster import KMeans\n",
    "from sklearn import metrics\n",
    "from sklearn.pipeline import make_pipeline"
   ]
  },
  {
   "cell_type": "markdown",
   "id": "be3ace41-6aef-4b28-a606-a6c44d3a1ce1",
   "metadata": {},
   "source": [
    "Next step is to load the Dataset , and scale the samples down so we can better understand it. Im gonna save the targets or the result of each sample in the variable **y** and the count of samples and features with the method shape of the data."
   ]
  },
  {
   "cell_type": "code",
   "execution_count": 5,
   "id": "6d649706-3563-409e-b91c-401278201084",
   "metadata": {},
   "outputs": [],
   "source": [
    "digits = load_digits()\n",
    "data = scale(digits.data)\n",
    "y = digits.target\n",
    "samples, features = data.shape\n",
    "labels = np.unique(y).size"
   ]
  },
  {
   "cell_type": "markdown",
   "id": "eebdf3c6-4148-4252-a870-97fddbff3179",
   "metadata": {},
   "source": [
    "I'm gonna create a function that is going to compute the score of the results of the model"
   ]
  },
  {
   "cell_type": "code",
   "execution_count": 41,
   "id": "98453dba-8dcf-40b9-8e3e-96bd09f461b7",
   "metadata": {},
   "outputs": [],
   "source": [
    "from time import time\n",
    "def bench_k_means(estimator, name, data):\n",
    "    t0 = time()\n",
    "    estimator.fit(data)\n",
    "    fit_time = time() - t0\n",
    "    print(f\"\"\"\n",
    "              name: {name}\n",
    "              time: {fit_time}\n",
    "              inertia: {estimator.inertia_:.3f} \n",
    "              Homogeneity score: { metrics.homogeneity_score(y, estimator.labels_):.3f}\n",
    "              Completness score: {metrics.completeness_score(y, estimator.labels_):.3f} \n",
    "              V measure score: {metrics.v_measure_score(y, estimator.labels_):.3f}\n",
    "              Adjusted rand score: {metrics.adjusted_rand_score(y, estimator.labels_):.3f}\n",
    "              Adjusted mutual information based score: {metrics.adjusted_mutual_info_score(y, estimator.labels_):.3f}\n",
    "              Silhouette score: {metrics.silhouette_score(data, estimator.labels_, metric ='euclidean', sample_size= 300):.3f} \n",
    "              \"\"\")"
   ]
  },
  {
   "cell_type": "code",
   "execution_count": 48,
   "id": "0610cd09-14f5-4c7e-9895-190f6d1571ec",
   "metadata": {},
   "outputs": [
    {
     "name": "stdout",
     "output_type": "stream",
     "text": [
      "\n",
      "              name: k-means++\n",
      "              time: 0.7189590930938721\n",
      "              inertia: 69519.937 \n",
      "              Homogeneity score: 0.611\n",
      "              Completness score: 0.659 \n",
      "              V measure score: 0.634\n",
      "              Adjusted rand score: 0.480\n",
      "              Adjusted rand score: 0.630\n",
      "              Silhouette score: 0.135 \n",
      "              \n"
     ]
    }
   ],
   "source": [
    "estimator = KMeans(init ='k-means++', n_clusters =labels, n_init =10)\n",
    "bench_k_means(estimator, name = 'k-means++', data=data)"
   ]
  },
  {
   "cell_type": "markdown",
   "id": "c747d8d9-db91-4d13-8670-4cb209f003d0",
   "metadata": {},
   "source": [
    "Evaluating the performance of a clustering algorithm is not as trivial as counting the number of errors or the precision and recall of a supervised classification algorithm. In particular, any evaluation metric should not take the absolute values of the cluster labels into account but rather if this clustering defines separations of the data similar to some ground truth set of classes or satisfying some assumption such that members belong to the same class are more similar than members of different classes according to some similarity metric.\n",
    "\n",
    "<ul>\n",
    "    <li>Homogeneity: each cluster contains only members of a single class.</li>\n",
    "    <li>Completeness: all members of a given class are assigned to the same cluster.</li>\n",
    "    <li>V-measure is the harmonic mean of Homogeneity and completness</li>\n",
    "    <li>The adjusted Rand index corrects for chance and will give such a baseline.</li>\n",
    "    <li>The Silhouette Coefficient is used when the ground truth labels are no known, the evaluation must be performed using the model itself. </li>\n",
    "</ul>\n"
   ]
  },
  {
   "cell_type": "code",
   "execution_count": 77,
   "id": "773b64d5-d542-47c3-b7e4-1958892a75a8",
   "metadata": {},
   "outputs": [
    {
     "data": {
      "text/plain": [
       "array([0, 1, 2, 3, 4, 5, 6, 7, 8, 9], dtype=int32)"
      ]
     },
     "execution_count": 77,
     "metadata": {},
     "output_type": "execute_result"
    }
   ],
   "source": [
    "np.unique(estimator.labels_)"
   ]
  },
  {
   "cell_type": "code",
   "execution_count": 105,
   "id": "d1804a2e-4fad-4d8d-9628-32ee7ab315bc",
   "metadata": {},
   "outputs": [
    {
     "data": {
      "text/plain": [
       "array([4], dtype=int32)"
      ]
     },
     "execution_count": 105,
     "metadata": {},
     "output_type": "execute_result"
    }
   ],
   "source": [
    "estimator.predict(data[19].reshape(1,64))"
   ]
  },
  {
   "cell_type": "code",
   "execution_count": 104,
   "id": "80f75737-5cb9-486d-9661-9d3a187e4c6c",
   "metadata": {},
   "outputs": [
    {
     "data": {
      "text/plain": [
       "<matplotlib.image.AxesImage at 0x7fb4678ad330>"
      ]
     },
     "execution_count": 104,
     "metadata": {},
     "output_type": "execute_result"
    },
    {
     "data": {
      "image/png": "[encoded data removed]",
      "text/plain": [
       "<Figure size 640x480 with 1 Axes>"
      ]
     },
     "metadata": {},
     "output_type": "display_data"
    }
   ],
   "source": [
    "import matplotlib.pyplot as plt\n",
    "\n",
    "plt.imshow(digits.images[18], cmap = 'binary')"
   ]
  },
  {
   "cell_type": "code",
   "execution_count": null,
   "id": "36b904a4-f556-468f-bac4-13f09996ecc6",
   "metadata": {},
   "outputs": [],
   "source": []
  }
 ],
 "metadata": {
  "kernelspec": {
   "display_name": "Python 3 (ipykernel)",
   "language": "python",
   "name": "python3"
  },
  "language_info": {
   "codemirror_mode": {
    "name": "ipython",
    "version": 3
   },
   "file_extension": ".py",
   "mimetype": "text/x-python",
   "name": "python",
   "nbconvert_exporter": "python",
   "pygments_lexer": "ipython3",
   "version": "3.10.12"
  }
 },
 "nbformat": 4,
 "nbformat_minor": 5
}
