{
 "cells": [
  {
   "cell_type": "markdown",
   "id": "138d0f2d-60ff-45e8-bdbd-a3e471911101",
   "metadata": {},
   "source": [
    "# Diabetes Dataset "
   ]
  },
  {
   "cell_type": "markdown",
   "id": "92397c44-8654-49c5-bdac-744c4d1a60a4",
   "metadata": {},
   "source": [
    "Diabetes is an opportune disease which has large wealth of data available and has with it huge complications. There is a need for a better and a more accurate approach in the diagnosis of the disease\r\n",
    "\r\n",
    "The data were collected from the Iraqi society, as they data were acquired from the laboratory of Medical City Hospital and (the Specializes Center for Endocrinology and Diabetes-Al-Kindy Teaching Hospital)The data that have been entered initially into the system are: No. of Patient, Sugar Level Blood, Age, Gender, Creatinine ratio(Cr), Body Mass Index (BMI), Urea, Cholesterol (Chol), Fasting lipid profile, including total, LDL, VLDL, Triglycerides(TG) and HDL Cholesterol , HBA1C, Class (the patient's diabetes disease class may be Diabetic, Non-Diabetic, or Predict-Diabetic).\n",
    "<br>\n",
    "[DATASET](https://www.kaggle.com/datasets/aravindpcoder/diabetes-dataset). "
   ]
  },
  {
   "cell_type": "code",
   "execution_count": 65,
   "id": "ce1432b2-c928-4b53-9d36-64478bbbaf69",
   "metadata": {},
   "outputs": [],
   "source": [
    "import pandas as pd \n",
    "import numpy as np \n",
    "from sklearn import metrics \n",
    "from sklearn import preprocessing\n",
    "import matplotlib.pyplot as plt \n",
    "import seaborn as sns\n",
    "from sklearn.model_selection import train_test_split"
   ]
  },
  {
   "cell_type": "code",
   "execution_count": 43,
   "id": "6ff0c13b-5244-446a-8ffe-7e7eca5e065d",
   "metadata": {},
   "outputs": [],
   "source": [
    "df = pd.read_csv('Dataset of Diabetes .csv')"
   ]
  },
  {
   "cell_type": "code",
   "execution_count": 44,
   "id": "26d0ad65-f71b-44d0-a551-5c9ba32b9b11",
   "metadata": {},
   "outputs": [
    {
     "data": {
      "text/html": [
       "<div>\n",
       "<style scoped>\n",
       "    .dataframe tbody tr th:only-of-type {\n",
       "        vertical-align: middle;\n",
       "    }\n",
       "\n",
       "    .dataframe tbody tr th {\n",
       "        vertical-align: top;\n",
       "    }\n",
       "\n",
       "    .dataframe thead th {\n",
       "        text-align: right;\n",
       "    }\n",
       "</style>\n",
       "<table border=\"1\" class=\"dataframe\">\n",
       "  <thead>\n",
       "    <tr style=\"text-align: right;\">\n",
       "      <th></th>\n",
       "      <th>ID</th>\n",
       "      <th>No_Pation</th>\n",
       "      <th>Gender</th>\n",
       "      <th>AGE</th>\n",
       "      <th>Urea</th>\n",
       "      <th>Cr</th>\n",
       "      <th>HbA1c</th>\n",
       "      <th>Chol</th>\n",
       "      <th>TG</th>\n",
       "      <th>HDL</th>\n",
       "      <th>LDL</th>\n",
       "      <th>VLDL</th>\n",
       "      <th>BMI</th>\n",
       "      <th>CLASS</th>\n",
       "    </tr>\n",
       "  </thead>\n",
       "  <tbody>\n",
       "    <tr>\n",
       "      <th>0</th>\n",
       "      <td>502</td>\n",
       "      <td>17975</td>\n",
       "      <td>F</td>\n",
       "      <td>50</td>\n",
       "      <td>4.7</td>\n",
       "      <td>46</td>\n",
       "      <td>4.9</td>\n",
       "      <td>4.2</td>\n",
       "      <td>0.9</td>\n",
       "      <td>2.4</td>\n",
       "      <td>1.4</td>\n",
       "      <td>0.5</td>\n",
       "      <td>24.0</td>\n",
       "      <td>N</td>\n",
       "    </tr>\n",
       "    <tr>\n",
       "      <th>1</th>\n",
       "      <td>735</td>\n",
       "      <td>34221</td>\n",
       "      <td>M</td>\n",
       "      <td>26</td>\n",
       "      <td>4.5</td>\n",
       "      <td>62</td>\n",
       "      <td>4.9</td>\n",
       "      <td>3.7</td>\n",
       "      <td>1.4</td>\n",
       "      <td>1.1</td>\n",
       "      <td>2.1</td>\n",
       "      <td>0.6</td>\n",
       "      <td>23.0</td>\n",
       "      <td>N</td>\n",
       "    </tr>\n",
       "    <tr>\n",
       "      <th>2</th>\n",
       "      <td>420</td>\n",
       "      <td>47975</td>\n",
       "      <td>F</td>\n",
       "      <td>50</td>\n",
       "      <td>4.7</td>\n",
       "      <td>46</td>\n",
       "      <td>4.9</td>\n",
       "      <td>4.2</td>\n",
       "      <td>0.9</td>\n",
       "      <td>2.4</td>\n",
       "      <td>1.4</td>\n",
       "      <td>0.5</td>\n",
       "      <td>24.0</td>\n",
       "      <td>N</td>\n",
       "    </tr>\n",
       "    <tr>\n",
       "      <th>3</th>\n",
       "      <td>680</td>\n",
       "      <td>87656</td>\n",
       "      <td>F</td>\n",
       "      <td>50</td>\n",
       "      <td>4.7</td>\n",
       "      <td>46</td>\n",
       "      <td>4.9</td>\n",
       "      <td>4.2</td>\n",
       "      <td>0.9</td>\n",
       "      <td>2.4</td>\n",
       "      <td>1.4</td>\n",
       "      <td>0.5</td>\n",
       "      <td>24.0</td>\n",
       "      <td>N</td>\n",
       "    </tr>\n",
       "    <tr>\n",
       "      <th>4</th>\n",
       "      <td>504</td>\n",
       "      <td>34223</td>\n",
       "      <td>M</td>\n",
       "      <td>33</td>\n",
       "      <td>7.1</td>\n",
       "      <td>46</td>\n",
       "      <td>4.9</td>\n",
       "      <td>4.9</td>\n",
       "      <td>1.0</td>\n",
       "      <td>0.8</td>\n",
       "      <td>2.0</td>\n",
       "      <td>0.4</td>\n",
       "      <td>21.0</td>\n",
       "      <td>N</td>\n",
       "    </tr>\n",
       "    <tr>\n",
       "      <th>...</th>\n",
       "      <td>...</td>\n",
       "      <td>...</td>\n",
       "      <td>...</td>\n",
       "      <td>...</td>\n",
       "      <td>...</td>\n",
       "      <td>...</td>\n",
       "      <td>...</td>\n",
       "      <td>...</td>\n",
       "      <td>...</td>\n",
       "      <td>...</td>\n",
       "      <td>...</td>\n",
       "      <td>...</td>\n",
       "      <td>...</td>\n",
       "      <td>...</td>\n",
       "    </tr>\n",
       "    <tr>\n",
       "      <th>995</th>\n",
       "      <td>200</td>\n",
       "      <td>454317</td>\n",
       "      <td>M</td>\n",
       "      <td>71</td>\n",
       "      <td>11.0</td>\n",
       "      <td>97</td>\n",
       "      <td>7.0</td>\n",
       "      <td>7.5</td>\n",
       "      <td>1.7</td>\n",
       "      <td>1.2</td>\n",
       "      <td>1.8</td>\n",
       "      <td>0.6</td>\n",
       "      <td>30.0</td>\n",
       "      <td>Y</td>\n",
       "    </tr>\n",
       "    <tr>\n",
       "      <th>996</th>\n",
       "      <td>671</td>\n",
       "      <td>876534</td>\n",
       "      <td>M</td>\n",
       "      <td>31</td>\n",
       "      <td>3.0</td>\n",
       "      <td>60</td>\n",
       "      <td>12.3</td>\n",
       "      <td>4.1</td>\n",
       "      <td>2.2</td>\n",
       "      <td>0.7</td>\n",
       "      <td>2.4</td>\n",
       "      <td>15.4</td>\n",
       "      <td>37.2</td>\n",
       "      <td>Y</td>\n",
       "    </tr>\n",
       "    <tr>\n",
       "      <th>997</th>\n",
       "      <td>669</td>\n",
       "      <td>87654</td>\n",
       "      <td>M</td>\n",
       "      <td>30</td>\n",
       "      <td>7.1</td>\n",
       "      <td>81</td>\n",
       "      <td>6.7</td>\n",
       "      <td>4.1</td>\n",
       "      <td>1.1</td>\n",
       "      <td>1.2</td>\n",
       "      <td>2.4</td>\n",
       "      <td>8.1</td>\n",
       "      <td>27.4</td>\n",
       "      <td>Y</td>\n",
       "    </tr>\n",
       "    <tr>\n",
       "      <th>998</th>\n",
       "      <td>99</td>\n",
       "      <td>24004</td>\n",
       "      <td>M</td>\n",
       "      <td>38</td>\n",
       "      <td>5.8</td>\n",
       "      <td>59</td>\n",
       "      <td>6.7</td>\n",
       "      <td>5.3</td>\n",
       "      <td>2.0</td>\n",
       "      <td>1.6</td>\n",
       "      <td>2.9</td>\n",
       "      <td>14.0</td>\n",
       "      <td>40.5</td>\n",
       "      <td>Y</td>\n",
       "    </tr>\n",
       "    <tr>\n",
       "      <th>999</th>\n",
       "      <td>248</td>\n",
       "      <td>24054</td>\n",
       "      <td>M</td>\n",
       "      <td>54</td>\n",
       "      <td>5.0</td>\n",
       "      <td>67</td>\n",
       "      <td>6.9</td>\n",
       "      <td>3.8</td>\n",
       "      <td>1.7</td>\n",
       "      <td>1.1</td>\n",
       "      <td>3.0</td>\n",
       "      <td>0.7</td>\n",
       "      <td>33.0</td>\n",
       "      <td>Y</td>\n",
       "    </tr>\n",
       "  </tbody>\n",
       "</table>\n",
       "<p>1000 rows × 14 columns</p>\n",
       "</div>"
      ],
      "text/plain": [
       "      ID  No_Pation Gender  AGE  Urea  Cr  HbA1c  Chol   TG  HDL  LDL  VLDL  \\\n",
       "0    502      17975      F   50   4.7  46    4.9   4.2  0.9  2.4  1.4   0.5   \n",
       "1    735      34221      M   26   4.5  62    4.9   3.7  1.4  1.1  2.1   0.6   \n",
       "2    420      47975      F   50   4.7  46    4.9   4.2  0.9  2.4  1.4   0.5   \n",
       "3    680      87656      F   50   4.7  46    4.9   4.2  0.9  2.4  1.4   0.5   \n",
       "4    504      34223      M   33   7.1  46    4.9   4.9  1.0  0.8  2.0   0.4   \n",
       "..   ...        ...    ...  ...   ...  ..    ...   ...  ...  ...  ...   ...   \n",
       "995  200     454317      M   71  11.0  97    7.0   7.5  1.7  1.2  1.8   0.6   \n",
       "996  671     876534      M   31   3.0  60   12.3   4.1  2.2  0.7  2.4  15.4   \n",
       "997  669      87654      M   30   7.1  81    6.7   4.1  1.1  1.2  2.4   8.1   \n",
       "998   99      24004      M   38   5.8  59    6.7   5.3  2.0  1.6  2.9  14.0   \n",
       "999  248      24054      M   54   5.0  67    6.9   3.8  1.7  1.1  3.0   0.7   \n",
       "\n",
       "      BMI CLASS  \n",
       "0    24.0     N  \n",
       "1    23.0     N  \n",
       "2    24.0     N  \n",
       "3    24.0     N  \n",
       "4    21.0     N  \n",
       "..    ...   ...  \n",
       "995  30.0     Y  \n",
       "996  37.2    Y   \n",
       "997  27.4    Y   \n",
       "998  40.5    Y   \n",
       "999  33.0    Y   \n",
       "\n",
       "[1000 rows x 14 columns]"
      ]
     },
     "execution_count": 44,
     "metadata": {},
     "output_type": "execute_result"
    }
   ],
   "source": [
    "df"
   ]
  },
  {
   "cell_type": "code",
   "execution_count": 45,
   "id": "470c7dee-3c6a-4a96-bec5-d5d0c5c142e2",
   "metadata": {},
   "outputs": [
    {
     "name": "stdout",
     "output_type": "stream",
     "text": [
      "<class 'pandas.core.frame.DataFrame'>\n",
      "RangeIndex: 1000 entries, 0 to 999\n",
      "Data columns (total 14 columns):\n",
      " #   Column     Non-Null Count  Dtype  \n",
      "---  ------     --------------  -----  \n",
      " 0   ID         1000 non-null   int64  \n",
      " 1   No_Pation  1000 non-null   int64  \n",
      " 2   Gender     1000 non-null   object \n",
      " 3   AGE        1000 non-null   int64  \n",
      " 4   Urea       1000 non-null   float64\n",
      " 5   Cr         1000 non-null   int64  \n",
      " 6   HbA1c      1000 non-null   float64\n",
      " 7   Chol       1000 non-null   float64\n",
      " 8   TG         1000 non-null   float64\n",
      " 9   HDL        1000 non-null   float64\n",
      " 10  LDL        1000 non-null   float64\n",
      " 11  VLDL       1000 non-null   float64\n",
      " 12  BMI        1000 non-null   float64\n",
      " 13  CLASS      1000 non-null   object \n",
      "dtypes: float64(8), int64(4), object(2)\n",
      "memory usage: 109.5+ KB\n"
     ]
    }
   ],
   "source": [
    "df.info()"
   ]
  },
  {
   "cell_type": "code",
   "execution_count": 46,
   "id": "373f3300-5220-47cb-8fdc-877e6229161d",
   "metadata": {},
   "outputs": [
    {
     "data": {
      "text/plain": [
       "array(['N', 'N ', 'P', 'Y', 'Y '], dtype=object)"
      ]
     },
     "execution_count": 46,
     "metadata": {},
     "output_type": "execute_result"
    }
   ],
   "source": [
    "df.CLASS.unique()\n"
   ]
  },
  {
   "cell_type": "code",
   "execution_count": 47,
   "id": "8405dfc0-2110-4698-894d-9508483a9eda",
   "metadata": {},
   "outputs": [
    {
     "data": {
      "text/plain": [
       "array(['F', 'M', 'f'], dtype=object)"
      ]
     },
     "execution_count": 47,
     "metadata": {},
     "output_type": "execute_result"
    }
   ],
   "source": [
    "df.Gender.unique()"
   ]
  },
  {
   "cell_type": "markdown",
   "id": "c31a64f6-e151-4092-9f04-7720a19373d7",
   "metadata": {},
   "source": [
    "I'm gonna perform some cleaning so that we can encode the data better"
   ]
  },
  {
   "cell_type": "code",
   "execution_count": 48,
   "id": "0bb14519-c63d-45d6-889f-ac5af38a5d41",
   "metadata": {},
   "outputs": [],
   "source": [
    "df.CLASS = df.CLASS.str.strip()\n",
    "df.Gender = df.Gender.str.strip().str.upper()"
   ]
  },
  {
   "cell_type": "code",
   "execution_count": 49,
   "id": "8dae2da7-ca5f-4237-ae3a-1ca22a404471",
   "metadata": {},
   "outputs": [],
   "source": [
    "label_encoder = preprocessing.LabelEncoder()\n",
    "\n",
    "df['Gender'] = label_encoder.fit_transform(df['Gender'])\n"
   ]
  },
  {
   "cell_type": "code",
   "execution_count": 50,
   "id": "19a1114c-32be-4a96-b18c-ae1ae9c0d02f",
   "metadata": {},
   "outputs": [],
   "source": [
    "df['CLASS'] = label_encoder.fit_transform(df['CLASS'])"
   ]
  },
  {
   "cell_type": "markdown",
   "id": "5e42a305-b977-4949-9042-7b52f20220a1",
   "metadata": {},
   "source": [
    "<ul>\n",
    "    <li>N: 0</li>\n",
    "    <li>Y: 1</li>\n",
    "    <li>P: 2</li>\n",
    "</ul>"
   ]
  },
  {
   "cell_type": "code",
   "execution_count": 51,
   "id": "7ed894be-4f26-4ca2-a9b0-82aa5231db93",
   "metadata": {},
   "outputs": [
    {
     "data": {
      "text/plain": [
       "Index(['ID', 'No_Pation', 'Gender', 'AGE', 'Urea', 'Cr', 'HbA1c', 'Chol', 'TG',\n",
       "       'HDL', 'LDL', 'VLDL', 'BMI', 'CLASS'],\n",
       "      dtype='object')"
      ]
     },
     "execution_count": 51,
     "metadata": {},
     "output_type": "execute_result"
    }
   ],
   "source": [
    "df.columns"
   ]
  },
  {
   "cell_type": "code",
   "execution_count": 52,
   "id": "51e523f2-294d-4297-a357-181793336ec1",
   "metadata": {},
   "outputs": [],
   "source": [
    "features = ['Gender', 'AGE', 'Urea', 'Cr', 'HbA1c', 'Chol', 'TG', 'HDL', 'LDL', 'VLDL', 'BMI']\n"
   ]
  },
  {
   "cell_type": "code",
   "execution_count": 54,
   "id": "636dd4b0-85ac-49b6-b9a3-656cd6887a34",
   "metadata": {},
   "outputs": [],
   "source": [
    "X = df[features]\n",
    "Y = df['CLASS']"
   ]
  },
  {
   "cell_type": "markdown",
   "id": "892d2abd-6f32-4b53-bfee-0ffd7db969ba",
   "metadata": {},
   "source": [
    "**Check the relation between features with a correlation matrix and a heatmap**"
   ]
  },
  {
   "cell_type": "code",
   "execution_count": 55,
   "id": "a9a146e4-fda3-44ee-a941-5b252c73dea8",
   "metadata": {},
   "outputs": [],
   "source": [
    "# Aply the Standard scaler\n",
    "sc = preprocessing.StandardScaler()\n",
    "selected = sc.fit(X)"
   ]
  },
  {
   "cell_type": "code",
   "execution_count": 56,
   "id": "7fb109a8-17a6-41d6-a18a-72b2a0dd702e",
   "metadata": {},
   "outputs": [],
   "source": [
    "x2 = pd.DataFrame(sc.transform(X), columns = features)"
   ]
  },
  {
   "cell_type": "code",
   "execution_count": 66,
   "id": "30216088-4ca2-4466-aa30-10ad16ad32a2",
   "metadata": {},
   "outputs": [],
   "source": [
    "X_train,X_test,y_train,y_test = train_test_split(x2, Y, test_size=1/3,random_state=85)"
   ]
  },
  {
   "cell_type": "markdown",
   "id": "4cd4de1a-a973-4924-aae4-0c864fae2e43",
   "metadata": {},
   "source": [
    "Our end data is categorical , for that reason I'm gonna use a clasification supervised model, specifically the Nearest Neighbors Classification"
   ]
  },
  {
   "cell_type": "code",
   "execution_count": 69,
   "id": "8960676c-719f-4fee-9f7e-1ae24129a8b2",
   "metadata": {},
   "outputs": [
    {
     "data": {
      "text/html": [
       "<style>#sk-container-id-2 {color: black;}#sk-container-id-2 pre{padding: 0;}#sk-container-id-2 div.sk-toggleable {background-color: white;}#sk-container-id-2 label.sk-toggleable__label {cursor: pointer;display: block;width: 100%;margin-bottom: 0;padding: 0.3em;box-sizing: border-box;text-align: center;}#sk-container-id-2 label.sk-toggleable__label-arrow:before {content: \"▸\";float: left;margin-right: 0.25em;color: #696969;}#sk-container-id-2 label.sk-toggleable__label-arrow:hover:before {color: black;}#sk-container-id-2 div.sk-estimator:hover label.sk-toggleable__label-arrow:before {color: black;}#sk-container-id-2 div.sk-toggleable__content {max-height: 0;max-width: 0;overflow: hidden;text-align: left;background-color: #f0f8ff;}#sk-container-id-2 div.sk-toggleable__content pre {margin: 0.2em;color: black;border-radius: 0.25em;background-color: #f0f8ff;}#sk-container-id-2 input.sk-toggleable__control:checked~div.sk-toggleable__content {max-height: 200px;max-width: 100%;overflow: auto;}#sk-container-id-2 input.sk-toggleable__control:checked~label.sk-toggleable__label-arrow:before {content: \"▾\";}#sk-container-id-2 div.sk-estimator input.sk-toggleable__control:checked~label.sk-toggleable__label {background-color: #d4ebff;}#sk-container-id-2 div.sk-label input.sk-toggleable__control:checked~label.sk-toggleable__label {background-color: #d4ebff;}#sk-container-id-2 input.sk-hidden--visually {border: 0;clip: rect(1px 1px 1px 1px);clip: rect(1px, 1px, 1px, 1px);height: 1px;margin: -1px;overflow: hidden;padding: 0;position: absolute;width: 1px;}#sk-container-id-2 div.sk-estimator {font-family: monospace;background-color: #f0f8ff;border: 1px dotted black;border-radius: 0.25em;box-sizing: border-box;margin-bottom: 0.5em;}#sk-container-id-2 div.sk-estimator:hover {background-color: #d4ebff;}#sk-container-id-2 div.sk-parallel-item::after {content: \"\";width: 100%;border-bottom: 1px solid gray;flex-grow: 1;}#sk-container-id-2 div.sk-label:hover label.sk-toggleable__label {background-color: #d4ebff;}#sk-container-id-2 div.sk-serial::before {content: \"\";position: absolute;border-left: 1px solid gray;box-sizing: border-box;top: 0;bottom: 0;left: 50%;z-index: 0;}#sk-container-id-2 div.sk-serial {display: flex;flex-direction: column;align-items: center;background-color: white;padding-right: 0.2em;padding-left: 0.2em;position: relative;}#sk-container-id-2 div.sk-item {position: relative;z-index: 1;}#sk-container-id-2 div.sk-parallel {display: flex;align-items: stretch;justify-content: center;background-color: white;position: relative;}#sk-container-id-2 div.sk-item::before, #sk-container-id-2 div.sk-parallel-item::before {content: \"\";position: absolute;border-left: 1px solid gray;box-sizing: border-box;top: 0;bottom: 0;left: 50%;z-index: -1;}#sk-container-id-2 div.sk-parallel-item {display: flex;flex-direction: column;z-index: 1;position: relative;background-color: white;}#sk-container-id-2 div.sk-parallel-item:first-child::after {align-self: flex-end;width: 50%;}#sk-container-id-2 div.sk-parallel-item:last-child::after {align-self: flex-start;width: 50%;}#sk-container-id-2 div.sk-parallel-item:only-child::after {width: 0;}#sk-container-id-2 div.sk-dashed-wrapped {border: 1px dashed gray;margin: 0 0.4em 0.5em 0.4em;box-sizing: border-box;padding-bottom: 0.4em;background-color: white;}#sk-container-id-2 div.sk-label label {font-family: monospace;font-weight: bold;display: inline-block;line-height: 1.2em;}#sk-container-id-2 div.sk-label-container {text-align: center;}#sk-container-id-2 div.sk-container {/* jupyter's `normalize.less` sets `[hidden] { display: none; }` but bootstrap.min.css set `[hidden] { display: none !important; }` so we also need the `!important` here to be able to override the default hidden behavior on the sphinx rendered scikit-learn.org. See: https://github.com/scikit-learn/scikit-learn/issues/21755 */display: inline-block !important;position: relative;}#sk-container-id-2 div.sk-text-repr-fallback {display: none;}</style><div id=\"sk-container-id-2\" class=\"sk-top-container\"><div class=\"sk-text-repr-fallback\"><pre>KNeighborsClassifier(n_neighbors=3)</pre><b>In a Jupyter environment, please rerun this cell to show the HTML representation or trust the notebook. <br />On GitHub, the HTML representation is unable to render, please try loading this page with nbviewer.org.</b></div><div class=\"sk-container\" hidden><div class=\"sk-item\"><div class=\"sk-estimator sk-toggleable\"><input class=\"sk-toggleable__control sk-hidden--visually\" id=\"sk-estimator-id-2\" type=\"checkbox\" checked><label for=\"sk-estimator-id-2\" class=\"sk-toggleable__label sk-toggleable__label-arrow\">KNeighborsClassifier</label><div class=\"sk-toggleable__content\"><pre>KNeighborsClassifier(n_neighbors=3)</pre></div></div></div></div></div>"
      ],
      "text/plain": [
       "KNeighborsClassifier(n_neighbors=3)"
      ]
     },
     "execution_count": 69,
     "metadata": {},
     "output_type": "execute_result"
    }
   ],
   "source": [
    "from sklearn.neighbors import KNeighborsClassifier\n",
    "\n",
    "knn = KNeighborsClassifier(n_neighbors=3)\n",
    "knn.fit(X_train, y_train)\n"
   ]
  },
  {
   "cell_type": "code",
   "execution_count": 70,
   "id": "fc93666d-12dc-4176-afe8-9ee1388da19a",
   "metadata": {},
   "outputs": [],
   "source": [
    "y_pred = knn.predict(X_test)"
   ]
  },
  {
   "cell_type": "code",
   "execution_count": 75,
   "id": "3e7fc8e2-1e90-4e65-b28b-6b85041af072",
   "metadata": {},
   "outputs": [
    {
     "data": {
      "image/png": "[encoded data removed]",
      "text/plain": [
       "<Figure size 640x480 with 2 Axes>"
      ]
     },
     "metadata": {},
     "output_type": "display_data"
    }
   ],
   "source": [
    "matrix = metrics.confusion_matrix(y_test, y_pred, labels = knn.classes_)\n",
    "display = metrics.ConfusionMatrixDisplay(confusion_matrix = matrix, display_labels = ['Non diabetes', 'Predict diabetes', 'diabetes'])\n",
    "display.plot()\n",
    "\n",
    "plt.show()"
   ]
  },
  {
   "cell_type": "code",
   "execution_count": 73,
   "id": "2fea74ed-68d1-4f90-9f3b-5728e692abdf",
   "metadata": {},
   "outputs": [
    {
     "name": "stdout",
     "output_type": "stream",
     "text": [
      "              precision    recall  f1-score   support\n",
      "\n",
      "           0       0.65      0.69      0.67        29\n",
      "           1       0.33      0.18      0.23        17\n",
      "           2       0.95      0.97      0.96       288\n",
      "\n",
      "    accuracy                           0.91       334\n",
      "   macro avg       0.64      0.61      0.62       334\n",
      "weighted avg       0.89      0.91      0.90       334\n",
      "\n"
     ]
    }
   ],
   "source": [
    "print(metrics.classification_report(y_test, y_pred))\n",
    "\n"
   ]
  },
  {
   "cell_type": "markdown",
   "id": "12ffaf37-2b8e-4ab0-8376-3dd702a8a0d5",
   "metadata": {},
   "source": [
    "**Accuracy** is a Classification measure in Machine Learning that represents a percentage of correct predictions made by a model.\n",
    "**Precision** is the percentage of positives that were actually positives\n",
    "**Recall** is the percentage of how many positive results our model captures from the real total of positives. \n",
    "\n",
    "\n"
   ]
  }
 ],
 "metadata": {
  "kernelspec": {
   "display_name": "Python 3 (ipykernel)",
   "language": "python",
   "name": "python3"
  },
  "language_info": {
   "codemirror_mode": {
    "name": "ipython",
    "version": 3
   },
   "file_extension": ".py",
   "mimetype": "text/x-python",
   "name": "python",
   "nbconvert_exporter": "python",
   "pygments_lexer": "ipython3",
   "version": "3.10.12"
  }
 },
 "nbformat": 4,
 "nbformat_minor": 5
}
