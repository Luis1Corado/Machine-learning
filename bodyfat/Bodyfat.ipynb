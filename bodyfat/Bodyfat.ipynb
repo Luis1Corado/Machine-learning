{
 "cells": [
  {
   "cell_type": "markdown",
   "id": "ae84bae3-2b95-43f6-a4df-db6690012c72",
   "metadata": {},
   "source": [
    "# Bodyfat dataset \n",
    "\n",
    "Body Fat measurement for 436 people <br>\n",
    "**[DATASET](https://www.kaggle.com/datasets/simonezappatini/body-fat-extended-dataset)**"
   ]
  },
  {
   "cell_type": "code",
   "execution_count": 31,
   "id": "d32710bb-ccb9-482a-813d-d920a70ac037",
   "metadata": {},
   "outputs": [],
   "source": [
    "import pandas as pd\n",
    "import numpy as np \n",
    "import matplotlib.pyplot as plt\n",
    "from sklearn.model_selection import GridSearchCV\n",
    "from sklearn.model_selection import train_test_split\n",
    "from sklearn.linear_model import BayesianRidge\n",
    "from sklearn import metrics\n",
    "from sklearn.preprocessing import PowerTransformer\n"
   ]
  },
  {
   "cell_type": "code",
   "execution_count": 3,
   "id": "b6b8f551-c494-4c59-8709-9dbe3822f8b5",
   "metadata": {},
   "outputs": [],
   "source": [
    "bodyfat_data = pd.read_csv('BodyFat - Extended.csv')"
   ]
  },
  {
   "cell_type": "markdown",
   "id": "61948f8b-7dda-45ec-942f-7d1d6d9fffdf",
   "metadata": {},
   "source": [
    "First thing to do is examine the dataset and make sure there are no mistakes"
   ]
  },
  {
   "cell_type": "code",
   "execution_count": 4,
   "id": "b4b99f6b-6467-4673-b9a2-402a3f50d677",
   "metadata": {},
   "outputs": [
    {
     "data": {
      "text/html": [
       "<div>\n",
       "<style scoped>\n",
       "    .dataframe tbody tr th:only-of-type {\n",
       "        vertical-align: middle;\n",
       "    }\n",
       "\n",
       "    .dataframe tbody tr th {\n",
       "        vertical-align: top;\n",
       "    }\n",
       "\n",
       "    .dataframe thead th {\n",
       "        text-align: right;\n",
       "    }\n",
       "</style>\n",
       "<table border=\"1\" class=\"dataframe\">\n",
       "  <thead>\n",
       "    <tr style=\"text-align: right;\">\n",
       "      <th></th>\n",
       "      <th>BodyFat</th>\n",
       "      <th>Original</th>\n",
       "      <th>Sex</th>\n",
       "      <th>Age</th>\n",
       "      <th>Weight</th>\n",
       "      <th>Height</th>\n",
       "      <th>Neck</th>\n",
       "      <th>Chest</th>\n",
       "      <th>Abdomen</th>\n",
       "      <th>Hip</th>\n",
       "      <th>Thigh</th>\n",
       "      <th>Knee</th>\n",
       "      <th>Ankle</th>\n",
       "      <th>Biceps</th>\n",
       "      <th>Forearm</th>\n",
       "      <th>Wrist</th>\n",
       "    </tr>\n",
       "  </thead>\n",
       "  <tbody>\n",
       "    <tr>\n",
       "      <th>0</th>\n",
       "      <td>12.3</td>\n",
       "      <td>Y</td>\n",
       "      <td>M</td>\n",
       "      <td>23</td>\n",
       "      <td>69.97</td>\n",
       "      <td>1.72</td>\n",
       "      <td>36.2</td>\n",
       "      <td>93.1</td>\n",
       "      <td>85.2</td>\n",
       "      <td>94.5</td>\n",
       "      <td>59.0</td>\n",
       "      <td>37.3</td>\n",
       "      <td>21.9</td>\n",
       "      <td>32.0</td>\n",
       "      <td>27.4</td>\n",
       "      <td>17.1</td>\n",
       "    </tr>\n",
       "    <tr>\n",
       "      <th>1</th>\n",
       "      <td>6.1</td>\n",
       "      <td>Y</td>\n",
       "      <td>M</td>\n",
       "      <td>22</td>\n",
       "      <td>78.59</td>\n",
       "      <td>1.84</td>\n",
       "      <td>38.5</td>\n",
       "      <td>93.6</td>\n",
       "      <td>83.0</td>\n",
       "      <td>98.7</td>\n",
       "      <td>58.7</td>\n",
       "      <td>37.3</td>\n",
       "      <td>23.4</td>\n",
       "      <td>30.5</td>\n",
       "      <td>28.9</td>\n",
       "      <td>18.2</td>\n",
       "    </tr>\n",
       "    <tr>\n",
       "      <th>2</th>\n",
       "      <td>25.3</td>\n",
       "      <td>Y</td>\n",
       "      <td>M</td>\n",
       "      <td>22</td>\n",
       "      <td>69.85</td>\n",
       "      <td>1.68</td>\n",
       "      <td>34.0</td>\n",
       "      <td>95.8</td>\n",
       "      <td>87.9</td>\n",
       "      <td>99.2</td>\n",
       "      <td>59.6</td>\n",
       "      <td>38.9</td>\n",
       "      <td>24.0</td>\n",
       "      <td>28.8</td>\n",
       "      <td>25.2</td>\n",
       "      <td>16.6</td>\n",
       "    </tr>\n",
       "    <tr>\n",
       "      <th>3</th>\n",
       "      <td>10.4</td>\n",
       "      <td>Y</td>\n",
       "      <td>M</td>\n",
       "      <td>26</td>\n",
       "      <td>83.80</td>\n",
       "      <td>1.84</td>\n",
       "      <td>37.4</td>\n",
       "      <td>101.8</td>\n",
       "      <td>86.4</td>\n",
       "      <td>101.2</td>\n",
       "      <td>60.1</td>\n",
       "      <td>37.3</td>\n",
       "      <td>22.8</td>\n",
       "      <td>32.4</td>\n",
       "      <td>29.4</td>\n",
       "      <td>18.2</td>\n",
       "    </tr>\n",
       "    <tr>\n",
       "      <th>4</th>\n",
       "      <td>28.7</td>\n",
       "      <td>Y</td>\n",
       "      <td>M</td>\n",
       "      <td>24</td>\n",
       "      <td>83.58</td>\n",
       "      <td>1.81</td>\n",
       "      <td>34.4</td>\n",
       "      <td>97.3</td>\n",
       "      <td>100.0</td>\n",
       "      <td>101.9</td>\n",
       "      <td>63.2</td>\n",
       "      <td>42.2</td>\n",
       "      <td>24.0</td>\n",
       "      <td>32.2</td>\n",
       "      <td>27.7</td>\n",
       "      <td>17.7</td>\n",
       "    </tr>\n",
       "  </tbody>\n",
       "</table>\n",
       "</div>"
      ],
      "text/plain": [
       "   BodyFat Original Sex  Age  Weight  Height  Neck  Chest  Abdomen    Hip  \\\n",
       "0     12.3        Y   M   23   69.97    1.72  36.2   93.1     85.2   94.5   \n",
       "1      6.1        Y   M   22   78.59    1.84  38.5   93.6     83.0   98.7   \n",
       "2     25.3        Y   M   22   69.85    1.68  34.0   95.8     87.9   99.2   \n",
       "3     10.4        Y   M   26   83.80    1.84  37.4  101.8     86.4  101.2   \n",
       "4     28.7        Y   M   24   83.58    1.81  34.4   97.3    100.0  101.9   \n",
       "\n",
       "   Thigh  Knee  Ankle  Biceps  Forearm  Wrist  \n",
       "0   59.0  37.3   21.9    32.0     27.4   17.1  \n",
       "1   58.7  37.3   23.4    30.5     28.9   18.2  \n",
       "2   59.6  38.9   24.0    28.8     25.2   16.6  \n",
       "3   60.1  37.3   22.8    32.4     29.4   18.2  \n",
       "4   63.2  42.2   24.0    32.2     27.7   17.7  "
      ]
     },
     "execution_count": 4,
     "metadata": {},
     "output_type": "execute_result"
    }
   ],
   "source": [
    "bodyfat_data.head()"
   ]
  },
  {
   "cell_type": "code",
   "execution_count": 5,
   "id": "230569ec-bca4-41ba-9408-abb1319444f4",
   "metadata": {},
   "outputs": [
    {
     "name": "stdout",
     "output_type": "stream",
     "text": [
      "<class 'pandas.core.frame.DataFrame'>\n",
      "RangeIndex: 436 entries, 0 to 435\n",
      "Data columns (total 16 columns):\n",
      " #   Column    Non-Null Count  Dtype  \n",
      "---  ------    --------------  -----  \n",
      " 0   BodyFat   436 non-null    float64\n",
      " 1   Original  436 non-null    object \n",
      " 2   Sex       436 non-null    object \n",
      " 3   Age       436 non-null    int64  \n",
      " 4   Weight    436 non-null    float64\n",
      " 5   Height    436 non-null    float64\n",
      " 6   Neck      436 non-null    float64\n",
      " 7   Chest     436 non-null    float64\n",
      " 8   Abdomen   436 non-null    float64\n",
      " 9   Hip       436 non-null    float64\n",
      " 10  Thigh     436 non-null    float64\n",
      " 11  Knee      436 non-null    float64\n",
      " 12  Ankle     436 non-null    float64\n",
      " 13  Biceps    436 non-null    float64\n",
      " 14  Forearm   436 non-null    float64\n",
      " 15  Wrist     436 non-null    float64\n",
      "dtypes: float64(13), int64(1), object(2)\n",
      "memory usage: 54.6+ KB\n"
     ]
    }
   ],
   "source": [
    "bodyfat_data.info()"
   ]
  },
  {
   "cell_type": "markdown",
   "id": "e46843ac-e263-4e18-86aa-80bd4290c2f5",
   "metadata": {},
   "source": [
    "We can see that the dataset contains 16 columns, with 2 of type object or string. The column Original is not really relevant to us. And the Sex column we can change it to numeric by maping M to 1 and F to 0. "
   ]
  },
  {
   "cell_type": "code",
   "execution_count": 11,
   "id": "37158cf0-39d8-4c98-9d57-1417b734bcf3",
   "metadata": {},
   "outputs": [],
   "source": [
    "bodyfat_data['Sex'] = bodyfat_data.Sex.map({'M':1, 'F': 0})"
   ]
  },
  {
   "cell_type": "code",
   "execution_count": 14,
   "id": "538f43cc-594e-479f-b580-27c40b052b17",
   "metadata": {},
   "outputs": [],
   "source": [
    "bodyfat_data.drop(columns =['Original'], inplace = True)"
   ]
  },
  {
   "cell_type": "code",
   "execution_count": 25,
   "id": "4a8e4171-71e4-4d45-897a-2b1289b87846",
   "metadata": {},
   "outputs": [],
   "source": [
    "bodyfat_data_men = bodyfat_data[bodyfat_data['Sex'] ==1]\n",
    "bodyfat_data_women = bodyfat_data[bodyfat_data['Sex'] ==0]"
   ]
  },
  {
   "cell_type": "markdown",
   "id": "ae3da99b-cdd4-4ceb-b7d7-7b08491c699c",
   "metadata": {},
   "source": [
    "Diferenciar entre la varaible dependiente y las variables independientes"
   ]
  },
  {
   "cell_type": "code",
   "execution_count": 27,
   "id": "c6d7ad73-cc71-40d3-be23-74df0ed92d82",
   "metadata": {},
   "outputs": [],
   "source": [
    "Y = bodyfat_data_men['BodyFat']\n",
    "X = bodyfat_data_men.drop(columns =['BodyFat'])"
   ]
  },
  {
   "cell_type": "code",
   "execution_count": 28,
   "id": "15b78bf6-b7f8-4eb0-bf84-07d44420104b",
   "metadata": {},
   "outputs": [],
   "source": [
    "X_train, X_test, y_train, y_test = train_test_split(X, Y, test_size =0.25, random_state=2)\n",
    "pt = PowerTransformer()\n",
    "X_train = pt.fit_transform(X_train)\n",
    "X_test = pt.fit_transform(X_test)"
   ]
  },
  {
   "cell_type": "markdown",
   "id": "ef185682-3d2d-4325-b637-b5cc92f17f56",
   "metadata": {},
   "source": [
    "I'm gonna use the Bayesian Ridge model and a linear model"
   ]
  },
  {
   "cell_type": "code",
   "execution_count": 32,
   "id": "ecabad5a-2dd3-470b-9550-682aa45a3144",
   "metadata": {},
   "outputs": [],
   "source": [
    "bay_model = BayesianRidge()\n",
    "bay_model.fit(X_train, y_train)\n",
    "\n",
    "bay_predictions = bay_model.predict(X_test)\n",
    "bay_r2 = metrics.r2_score(y_test, bay_predictions)"
   ]
  },
  {
   "cell_type": "code",
   "execution_count": 50,
   "id": "26caac1e-842e-494a-ab7b-cfe87439b5e4",
   "metadata": {},
   "outputs": [
    {
     "name": "stdout",
     "output_type": "stream",
     "text": [
      "Bayesian Ridge R2: 0.739\n"
     ]
    }
   ],
   "source": [
    "print('Bayesian Ridge R2:', \"{:.3f}\".format(bay_r2))\n"
   ]
  },
  {
   "cell_type": "code",
   "execution_count": 55,
   "id": "ed6ae656-a6aa-4bf4-81df-59c68dd2f994",
   "metadata": {},
   "outputs": [
    {
     "data": {
      "image/png": "[encoded data removed]",
      "text/plain": [
       "<Figure size 640x480 with 1 Axes>"
      ]
     },
     "metadata": {},
     "output_type": "display_data"
    }
   ],
   "source": [
    "display = metrics.PredictionErrorDisplay(y_true=y_test, y_pred=bay_predictions)\n",
    "display.plot()\n",
    "plt.show()"
   ]
  },
  {
   "cell_type": "code",
   "execution_count": 61,
   "id": "e1bb8b38-22b2-4bbd-b833-df422fd3bea1",
   "metadata": {},
   "outputs": [
    {
     "name": "stdout",
     "output_type": "stream",
     "text": [
      "Linear Regression R2: 0.738\n"
     ]
    }
   ],
   "source": [
    "from sklearn.linear_model import LinearRegression\n",
    "\n",
    "lm = LinearRegression()\n",
    "lm.fit(X_train, y_train)\n",
    "\n",
    "y_pred = lm.predict(X_test)\n",
    "reg_r2 = metrics.r2_score(y_test, y_pred)\n",
    "\n",
    "print(f'Linear Regression R2: {reg_r2:.3f}')"
   ]
  },
  {
   "cell_type": "code",
   "execution_count": 62,
   "id": "90425f39-6788-4ebc-a1e5-616f5f2d54b8",
   "metadata": {},
   "outputs": [
    {
     "data": {
      "image/png": "[encoded data removed]",
      "text/plain": [
       "<Figure size 640x480 with 1 Axes>"
      ]
     },
     "metadata": {},
     "output_type": "display_data"
    }
   ],
   "source": [
    "display = metrics.PredictionErrorDisplay(y_true=y_test, y_pred=y_pred)\n",
    "display.plot()\n",
    "plt.show()"
   ]
  },
  {
   "cell_type": "code",
   "execution_count": 63,
   "id": "90926e5f-673c-42a3-ae49-2d7d4815e9bf",
   "metadata": {},
   "outputs": [],
   "source": [
    "Y_women = bodyfat_data_women['BodyFat']\n",
    "X_women = bodyfat_data_women.drop(columns =['BodyFat'])"
   ]
  },
  {
   "cell_type": "code",
   "execution_count": 64,
   "id": "9d66fd89-b43b-4b1a-85c0-342be689c21b",
   "metadata": {},
   "outputs": [
    {
     "name": "stdout",
     "output_type": "stream",
     "text": [
      "Bayesian Ridge R2: 0.495\n"
     ]
    }
   ],
   "source": [
    "X_train, X_test, y_train, y_test = train_test_split(X_women, Y_women, test_size =0.25, random_state=2)\n",
    "pt = PowerTransformer()\n",
    "X_train = pt.fit_transform(X_train)\n",
    "X_test = pt.fit_transform(X_test)\n",
    "\n",
    "bay_model = BayesianRidge()\n",
    "bay_model.fit(X_train, y_train)\n",
    "\n",
    "bay_predictions = bay_model.predict(X_test)\n",
    "bay_r2 = metrics.r2_score(y_test, bay_predictions)\n",
    "\n",
    "print('Bayesian Ridge R2:', \"{:.3f}\".format(bay_r2))"
   ]
  },
  {
   "cell_type": "code",
   "execution_count": 65,
   "id": "7fbb73bd-f898-4398-979d-c0fc4528b893",
   "metadata": {},
   "outputs": [
    {
     "data": {
      "image/png": "[encoded data removed]",
      "text/plain": [
       "<Figure size 640x480 with 1 Axes>"
      ]
     },
     "metadata": {},
     "output_type": "display_data"
    }
   ],
   "source": [
    "display = metrics.PredictionErrorDisplay(y_true=y_test, y_pred=bay_predictions)\n",
    "display.plot()\n",
    "plt.show()"
   ]
  },
  {
   "cell_type": "code",
   "execution_count": null,
   "id": "1638f7d3-6367-43fb-9617-7cca4ba40f6a",
   "metadata": {},
   "outputs": [],
   "source": []
  }
 ],
 "metadata": {
  "kernelspec": {
   "display_name": "Python 3 (ipykernel)",
   "language": "python",
   "name": "python3"
  },
  "language_info": {
   "codemirror_mode": {
    "name": "ipython",
    "version": 3
   },
   "file_extension": ".py",
   "mimetype": "text/x-python",
   "name": "python",
   "nbconvert_exporter": "python",
   "pygments_lexer": "ipython3",
   "version": "3.10.12"
  }
 },
 "nbformat": 4,
 "nbformat_minor": 5
}
